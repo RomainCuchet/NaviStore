{
 "cells": [
  {
   "cell_type": "markdown",
   "id": "bf6f779f",
   "metadata": {},
   "source": [
    "## POC database"
   ]
  },
  {
   "cell_type": "code",
   "execution_count": 1,
   "id": "43637e66",
   "metadata": {},
   "outputs": [],
   "source": [
    "%load_ext autoreload\n",
    "%autoreload 2"
   ]
  },
  {
   "cell_type": "code",
   "execution_count": null,
   "id": "0ee6b221",
   "metadata": {},
   "outputs": [],
   "source": [
    "from tools import LeclercProductsFetcher\n",
    "from tools import LeclercProductsAnalyser\n",
    "\n",
    "\n",
    "def demo_leclerc_fetcher():\n",
    "    LeclercProductsFetcher.run(html_path=\"server/assets/scrapped.html\")\n",
    "    LeclercProductsFetcher.run(html_path=\"server/assets/scrapped1.html\")\n",
    "    LeclercProductsFetcher.run(html_path=\"server/assets/scrapped2.html\")\n",
    "    LeclercProductsAnalyser.run(json_path=\"server/assets/products.json\")\n"
   ]
  },
  {
   "cell_type": "code",
   "execution_count": 2,
   "id": "7e0eaec6",
   "metadata": {},
   "outputs": [
    {
     "name": "stdout",
     "output_type": "stream",
     "text": [
      "Added products from path assets/scrapped.html:\n",
      "Total products fetched: 298\n",
      "Removed 298 duplicate products.\n",
      "Unique products count: 585\n",
      "Added products from path assets/scrapped1.html:\n",
      "Total products fetched: 98\n",
      "Removed 98 duplicate products.\n",
      "Unique products count: 585\n",
      "Added products from path assets/scrapped2.html:\n",
      "Total products fetched: 206\n",
      "Removed 206 duplicate products.\n",
      "Unique products count: 585\n",
      "=== Product Stats ===\n",
      "Total products: 585\n",
      "Total unique brands: 323\n",
      "Average price per measurement unit: €4.59\n",
      "Average first product price: €31.56\n",
      "Average second product price: €1.43\n",
      "Lowest first product price: €0.00\n",
      "Highest first product price: €799.00\n"
     ]
    }
   ],
   "source": [
    "demo_leclerc_fetcher()"
   ]
  },
  {
   "cell_type": "code",
   "execution_count": 3,
   "id": "1d45e0f3",
   "metadata": {},
   "outputs": [],
   "source": [
    "def demo_APIKeyGenerator():\n",
    "    from tools import APIKeyGenerator\n",
    "    APIKeyGenerator.run_interface()"
   ]
  },
  {
   "cell_type": "code",
   "execution_count": 1,
   "id": "c1297d6c",
   "metadata": {},
   "outputs": [
    {
     "ename": "NameError",
     "evalue": "name 'demo_APIKeyGenerator' is not defined",
     "output_type": "error",
     "traceback": [
      "\u001b[31m---------------------------------------------------------------------------\u001b[39m",
      "\u001b[31mNameError\u001b[39m                                 Traceback (most recent call last)",
      "\u001b[36mCell\u001b[39m\u001b[36m \u001b[39m\u001b[32mIn[1]\u001b[39m\u001b[32m, line 1\u001b[39m\n\u001b[32m----> \u001b[39m\u001b[32m1\u001b[39m \u001b[43mdemo_APIKeyGenerator\u001b[49m()\n",
      "\u001b[31mNameError\u001b[39m: name 'demo_APIKeyGenerator' is not defined"
     ]
    }
   ],
   "source": [
    "demo_APIKeyGenerator()"
   ]
  },
  {
   "cell_type": "code",
   "execution_count": 5,
   "id": "9de5da95",
   "metadata": {},
   "outputs": [
    {
     "name": "stdout",
     "output_type": "stream",
     "text": [
      "43 :  {'Soin du linge', 'Electroménager', 'Charcuterie Traiteur', 'Habillement', 'Entretien nettoyage', 'Arts de la table', 'Papeterie', 'Boissons avec alcool', 'Écriture et matériel scolaire', 'Plein air, Loisirs', 'Classement et protection', 'Pain Viennoiserie Pâtisserie', 'Puériculture', 'Boucherie, volailles et gibiers', 'Surgelés', 'Fournitures, papeterie', 'Maroquinerie scolaire', 'Mobilier, rangement et décoration', 'Poissonnerie, traiteur de la mer', 'Maison', 'Yaourts et Desserts', 'Mode et accessoires', 'Culture et jeux-vidéos', 'Auto, Brico', 'Crèmerie', 'Charcuterie', 'Hygiène et soins', 'Animalerie', 'Hygiène et beauté', 'Épicerie', 'Fruits et légumes', 'Traiteur', 'High-tech', 'Fromagerie', 'Papiers et accessoires ménagers', 'Nettoyants maison', 'Cuisine et cuisson', 'Boissons sans alcool', 'Viandes et poissons', 'Nettoyants vaisselle', 'Alimentation infantile', 'Crèmerie Fromagerie', 'Bébé'}\n"
     ]
    }
   ],
   "source": [
    "from tools import LeclercProductsAnalyser\n",
    "\n",
    "categories = LeclercProductsAnalyser.fetch_categories()\n",
    "print(len(categories), \": \",categories)\n",
    "\n"
   ]
  }
 ],
 "metadata": {
  "kernelspec": {
   "display_name": "navistore_server-venv",
   "language": "python",
   "name": "python3"
  },
  "language_info": {
   "codemirror_mode": {
    "name": "ipython",
    "version": 3
   },
   "file_extension": ".py",
   "mimetype": "text/x-python",
   "name": "python",
   "nbconvert_exporter": "python",
   "pygments_lexer": "ipython3",
   "version": "3.13.1"
  }
 },
 "nbformat": 4,
 "nbformat_minor": 5
}
